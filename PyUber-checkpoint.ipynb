#%matplotlib inline
# Dependencies and Setup
import matplotlib.pyplot as plt
import pandas as pd
import numpy as np
import seaborn as sns


# File to Load (Remember to change these)
#city_data_to_load = "data/city_data.csv"
#ride_data_to_load = "data/ride_data.csv"

# Read the City and Ride Data

# Combine the data into a single dataset

# Display the data table for preview
In [158]:
%matplotlib
Using matplotlib backend: MacOSX
In [159]:
# Dependencies and Setup
import matplotlib.pyplot as plt
import pandas as pd
import numpy as np
In [160]:
#left_on='id', right_index=True
In [161]:
# File to Load (Remember to change these)
city_data_to_load = "city_data.csv"
ride_data_to_load = "ride_data.csv"

city_data_df = pd.read_csv(city_data_to_load)
ride_data_df = pd.read_csv(ride_data_to_load)
In [162]:
#Merge our two data frames together
combined_data = pd.merge(city_data_df, ride_data_df, how='outer', on="city")
combined_data.head()
Out[162]:
city	driver_count	type	date	fare	ride_id
0	Richardfort	38	Urban	2018-02-24 08:40:38	13.93	5628545007794
1	Richardfort	38	Urban	2018-02-13 12:46:07	14.00	910050116494
2	Richardfort	38	Urban	2018-02-16 13:52:19	17.92	820639054416
3	Richardfort	38	Urban	2018-02-01 20:18:28	10.26	9554935945413
4	Richardfort	38	Urban	2018-04-17 02:26:37	23.00	720020655850
In [163]:
combined_data.describe()
Out[163]:
driver_count	fare	ride_id
count	2375.000000	2375.000000	2.375000e+03
mean	28.930105	26.753112	4.887270e+12
std	20.666306	12.109465	2.907361e+12
min	1.000000	4.050000	3.218337e+08
25%	11.000000	17.190000	2.381175e+12
50%	23.000000	26.600000	4.748541e+12
75%	45.000000	36.645000	7.461936e+12
max	73.000000	58.550000	9.991538e+12
In [164]:
combined_data['driver_count'] = pd.to_numeric(combined_data['driver_count'])
In [165]:
combined_data.dtypes
Out[165]:
city             object
driver_count      int64
type             object
date             object
fare            float64
ride_id           int64
dtype: object
In [115]:
# Obtain the x and y coordinates for each of the three city types

# Build the scatter plots for each city types

# Incorporate the other graph properties

# Create a legend

# Incorporate a text label regarding circle size

# Save Figure
In [166]:
# Collect the mean unemployment rates for the world
#average_fare = combined_unemployed_data['fare'].mean()

# Collect the years where data was collected
combined_data['city'].count()
Out[166]:
2375
In [167]:
citiesgroups_df = combined_data.groupby("city")
citiesgroups_df.head()
Out[167]:
city	driver_count	type	date	fare	ride_id
0	Richardfort	38	Urban	2018-02-24 08:40:38	13.93	5628545007794
1	Richardfort	38	Urban	2018-02-13 12:46:07	14.00	910050116494
2	Richardfort	38	Urban	2018-02-16 13:52:19	17.92	820639054416
3	Richardfort	38	Urban	2018-02-01 20:18:28	10.26	9554935945413
4	Richardfort	38	Urban	2018-04-17 02:26:37	23.00	720020655850
28	Williamsstad	59	Urban	2018-01-23 17:51:24	19.62	125986195523
29	Williamsstad	59	Urban	2018-03-29 21:43:04	35.58	4747780858464
30	Williamsstad	59	Urban	2018-02-13 20:07:49	33.72	3796713212942
31	Williamsstad	59	Urban	2018-05-01 01:26:21	26.81	4542954169892
32	Williamsstad	59	Urban	2018-02-23 17:42:40	4.68	9109973457376
51	Port Angela	67	Urban	2018-04-17 06:23:18	16.34	7120534266772
52	Port Angela	67	Urban	2018-03-31 15:22:26	30.77	662264490197
53	Port Angela	67	Urban	2018-04-09 14:34:27	11.90	7009806605900
54	Port Angela	67	Urban	2018-02-08 16:30:53	30.38	5165542108944
55	Port Angela	67	Urban	2018-03-04 03:26:39	40.35	4930810733132
70	Rodneyfort	34	Urban	2018-02-10 23:22:03	23.44	5149245426178
71	Rodneyfort	34	Urban	2018-03-02 18:03:20	44.26	2494064867705
72	Rodneyfort	34	Urban	2018-02-03 00:48:41	44.86	2325699544245
73	Rodneyfort	34	Urban	2018-04-25 20:57:43	21.70	8534600667414
74	Rodneyfort	34	Urban	2018-01-30 12:34:42	16.99	5778730523049
93	West Robert	39	Urban	2018-02-15 04:21:47	12.28	1442502460354
94	West Robert	39	Urban	2018-04-05 03:18:56	44.58	4246011046064
95	West Robert	39	Urban	2018-01-21 17:21:50	27.11	1369907297609
96	West Robert	39	Urban	2018-04-13 06:56:12	32.94	9603611942427
97	West Robert	39	Urban	2018-01-04 06:10:40	35.35	9554287895527
124	West Anthony	70	Urban	2018-03-06 02:27:01	10.02	9396763280782
125	West Anthony	70	Urban	2018-01-23 12:32:46	23.24	596601397101
126	West Anthony	70	Urban	2018-02-24 06:14:16	39.20	8491405671407
127	West Anthony	70	Urban	2018-03-17 00:30:34	35.42	4561324147940
128	West Anthony	70	Urban	2018-01-10 02:31:33	32.34	1479317039864
...	...	...	...	...	...	...
2335	South Marychester	1	Rural	2018-02-21 19:16:48	55.40	8822356392057
2336	South Marychester	1	Rural	2018-01-15 21:44:26	30.26	3837056996776
2337	South Marychester	1	Rural	2018-03-27 12:07:50	34.42	4230150157651
2341	Garzaport	7	Rural	2018-02-18 18:27:48	36.16	2928337561347
2342	Garzaport	7	Rural	2018-04-17 01:48:27	17.31	6092414045061
2343	Garzaport	7	Rural	2018-05-06 16:57:16	18.90	8826696981094
2344	Bradshawfurt	7	Rural	2018-03-06 21:44:53	19.74	6080367372860
2345	Bradshawfurt	7	Rural	2018-03-24 18:53:18	57.51	2301998876294
2346	Bradshawfurt	7	Rural	2018-03-24 07:34:03	19.89	7867402022145
2347	Bradshawfurt	7	Rural	2018-02-18 22:21:26	34.32	8881996813087
2348	Bradshawfurt	7	Rural	2018-04-08 13:46:03	55.19	1742954306812
2354	New Ryantown	2	Rural	2018-01-27 17:33:41	42.68	7994603753131
2355	New Ryantown	2	Rural	2018-04-18 19:43:54	42.97	230914178346
2356	New Ryantown	2	Rural	2018-02-04 23:54:51	45.70	3570428225530
2357	New Ryantown	2	Rural	2018-04-30 01:50:44	50.81	5357550405010
2358	New Ryantown	2	Rural	2018-04-05 21:38:18	50.98	4834855490008
2360	Randallchester	9	Rural	2018-04-13 11:13:31	43.22	1076079536213
2361	Randallchester	9	Rural	2018-02-19 03:52:47	58.55	8004803682564
2362	Randallchester	9	Rural	2018-02-11 05:42:29	25.78	9010611749008
2363	Randallchester	9	Rural	2018-03-25 13:36:46	10.37	3216382725494
2364	Randallchester	9	Rural	2018-04-07 23:42:07	10.79	1615474447641
2365	Jessicaport	1	Rural	2018-01-01 09:45:36	43.69	2424875833354
2366	Jessicaport	1	Rural	2018-01-14 07:09:17	18.05	5405362355006
2367	Jessicaport	1	Rural	2018-04-13 16:08:11	39.89	6511242590852
2368	Jessicaport	1	Rural	2018-03-18 16:59:40	33.72	3046889917159
2369	Jessicaport	1	Rural	2018-05-01 08:14:47	22.44	3725278487786
2371	South Saramouth	7	Rural	2018-02-20 16:32:36	44.29	3622365199969
2372	South Saramouth	7	Rural	2018-01-28 15:55:33	31.25	7118046558393
2373	South Saramouth	7	Rural	2018-03-27 21:07:16	11.87	170351888128
2374	South Saramouth	7	Rural	2018-04-12 18:11:50	57.23	5081198789583
596 rows × 6 columns

In [168]:
number_rides = citiesgroups_df["date"].count()
number_rides
Out[168]:
city
Amandaburgh             18
Barajasview             22
Barronchester           16
Bethanyland             18
Bradshawfurt            10
Brandonfort             19
Carriemouth             27
Christopherfurt         27
Colemanland             22
Davidfurt               17
Deanville               19
East Aaronbury           9
East Danielview         17
East Kaylahaven         29
East Kentstad           13
East Marymouth          27
Erikaland               12
Garzaport                3
Grahamburgh             25
Grayville               15
Harringtonfort           6
Huntermouth             24
Hurleymouth             28
Jerryton                25
Jessicaport              6
Johnton                 21
Joneschester            25
Josephside              27
Justinberg              30
Karenberg               17
                        ..
South Evanton           31
South Jack              19
South Jennifer           7
South Karenland         38
South Latoya            19
South Marychester        8
South Michelleport      31
South Phillip           31
South Saramouth          4
South Teresa            22
Taylorhaven              6
Valentineton            22
Veronicaberg            17
Victoriaport            14
West Angela             39
West Anthony            30
West Christopherberg    26
West Ericstad           18
West Gabriel            23
West Hannah             21
West Heather             9
West Heidi              28
West Josephberg         26
West Kimmouth           20
West Patrickchester     16
West Robert             31
West Samuelburgh        25
Williamsonville         14
Williamsstad            23
Williamsview            20
Name: date, Length: 120, dtype: int64
In [ ]:

In [121]:
car_data.plot(kind="scatter", x="horsepower", y="mpg", grid=True, figsize=(20,10),
              title="Horsepower Vs. MPG")
plt.show()
x_limit = 100

# List of values from 0 to 100 each value being 1 greater than the last
x_axis = np.arange(0, x_limit, 1)

# Create a random array of data that we will use for our y values
data = [random.random() for value in x_axis]

# Tells matplotlib that we want to make a scatter plot
# The size of each point on our plot is determined by their x value
plt.scatter(x_axis, data, marker="o", facecolors="red", edgecolors="black",
            s=x_axis, alpha=0.75)
---------------------------------------------------------------------------
NameError                                 Traceback (most recent call last)
<ipython-input-121-dd6b14dbf610> in <module>()
----> 1 car_data.plot(kind="scatter", x="horsepower", y="mpg", grid=True, figsize=(20,10),
      2               title="Horsepower Vs. MPG")
      3 plt.show()
      4 x_limit = 100
      5 

NameError: name 'car_data' is not defined
In [169]:
drivers = citiesgroups_df["driver_count"].unique()
drivers
Out[169]:
city
Amandaburgh             [12]
Barajasview             [26]
Barronchester           [11]
Bethanyland             [22]
Bradshawfurt             [7]
Brandonfort             [10]
Carriemouth             [52]
Christopherfurt         [41]
Colemanland             [23]
Davidfurt               [23]
Deanville               [49]
East Aaronbury           [7]
East Danielview         [22]
East Kaylahaven         [65]
East Kentstad           [20]
East Marymouth           [5]
Erikaland               [37]
Garzaport                [7]
Grahamburgh             [61]
Grayville                [2]
Harringtonfort           [4]
Huntermouth             [37]
Hurleymouth             [36]
Jerryton                [64]
Jessicaport              [1]
Johnton                 [27]
Joneschester            [39]
Josephside              [25]
Justinberg              [39]
Karenberg               [22]
                        ... 
South Evanton           [11]
South Jack              [46]
South Jennifer           [7]
South Karenland          [4]
South Latoya            [10]
South Marychester        [1]
South Michelleport      [72]
South Phillip           [38]
South Saramouth          [7]
South Teresa            [21]
Taylorhaven              [1]
Valentineton            [45]
Veronicaberg            [20]
Victoriaport            [16]
West Angela             [48]
West Anthony            [70]
West Christopherberg    [32]
West Ericstad           [25]
West Gabriel            [57]
West Hannah             [12]
West Heather             [4]
West Heidi              [28]
West Josephberg         [45]
West Kimmouth            [4]
West Patrickchester     [25]
West Robert             [39]
West Samuelburgh        [73]
Williamsonville          [2]
Williamsstad            [59]
Williamsview            [46]
Name: driver_count, Length: 120, dtype: object
In [170]:
citiesgroups_df_avg = citiesgroups_df["fare"].mean()
citiesgroups_df_avg
Out[170]:
city
Amandaburgh             24.641667
Barajasview             25.332273
Barronchester           36.422500
Bethanyland             32.956111
Bradshawfurt            40.064000
Brandonfort             35.437368
Carriemouth             28.314444
Christopherfurt         24.501852
Colemanland             30.894545
Davidfurt               31.995882
Deanville               25.842632
East Aaronbury          25.661111
East Danielview         31.560588
East Kaylahaven         23.757931
East Kentstad           29.823077
East Marymouth          30.835185
Erikaland               24.906667
Garzaport               24.123333
Grahamburgh             25.221200
Grayville               27.763333
Harringtonfort          33.470000
Huntermouth             28.993750
Hurleymouth             25.891429
Jerryton                25.649200
Jessicaport             36.013333
Johnton                 26.785714
Joneschester            22.289600
Josephside              32.858148
Justinberg              23.694333
Karenberg               26.340000
                          ...    
South Evanton           26.726129
South Jack              22.965263
South Jennifer          35.264286
South Karenland         26.535526
South Latoya            20.093158
South Marychester       41.870000
South Michelleport      24.451613
South Phillip           28.571290
South Saramouth         36.160000
South Teresa            31.220455
Taylorhaven             42.263333
Valentineton            24.636364
Veronicaberg            32.828235
Victoriaport            27.780000
West Angela             25.990000
West Anthony            24.736667
West Christopherberg    24.421154
West Ericstad           22.347222
West Gabriel            20.346087
West Hannah             29.547619
West Heather            33.890000
West Heidi              23.133929
West Josephberg         21.720385
West Kimmouth           29.871500
West Patrickchester     28.233125
West Robert             25.123871
West Samuelburgh        21.767600
Williamsonville         31.875000
Williamsstad            24.362174
Williamsview            26.599000
Name: fare, Length: 120, dtype: float64
In [171]:
x_axis = citiesgroups_df_avg
y_axis = number_rides
In [172]:
x = citiesgroups_df_avg
y = number_rides
z = "driver_count"


plt.scatter(x, y, s=z, facecolors="red")
---------------------------------------------------------------------------
TypeError                                 Traceback (most recent call last)
<ipython-input-172-508dcd1bbfeb> in <module>()
      4 
      5 
----> 6 plt.scatter(x, y, s=z, facecolors="red")

/anaconda3/lib/python3.6/site-packages/matplotlib/pyplot.py in scatter(x, y, s, c, marker, cmap, norm, vmin, vmax, alpha, linewidths, verts, edgecolors, hold, data, **kwargs)
   3355                          vmin=vmin, vmax=vmax, alpha=alpha,
   3356                          linewidths=linewidths, verts=verts,
-> 3357                          edgecolors=edgecolors, data=data, **kwargs)
   3358     finally:
   3359         ax._hold = washold

/anaconda3/lib/python3.6/site-packages/matplotlib/__init__.py in inner(ax, *args, **kwargs)
   1708                     warnings.warn(msg % (label_namer, func.__name__),
   1709                                   RuntimeWarning, stacklevel=2)
-> 1710             return func(ax, *args, **kwargs)
   1711         pre_doc = inner.__doc__
   1712         if pre_doc is None:

/anaconda3/lib/python3.6/site-packages/matplotlib/axes/_axes.py in scatter(self, x, y, s, c, marker, cmap, norm, vmin, vmax, alpha, linewidths, verts, edgecolors, **kwargs)
   4094                 offsets=offsets,
   4095                 transOffset=kwargs.pop('transform', self.transData),
-> 4096                 alpha=alpha
   4097                 )
   4098         collection.set_transform(mtransforms.IdentityTransform())

/anaconda3/lib/python3.6/site-packages/matplotlib/collections.py in __init__(self, paths, sizes, **kwargs)
    861         Collection.__init__(self, **kwargs)
    862         self.set_paths(paths)
--> 863         self.set_sizes(sizes)
    864         self.stale = True
    865 

/anaconda3/lib/python3.6/site-packages/matplotlib/collections.py in set_sizes(self, sizes, dpi)
    834             self._sizes = np.asarray(sizes)
    835             self._transforms = np.zeros((len(self._sizes), 3, 3))
--> 836             scale = np.sqrt(self._sizes) * dpi / 72.0 * self._factor
    837             self._transforms[:, 0, 0] = scale
    838             self._transforms[:, 1, 1] = scale

TypeError: ufunc 'sqrt' not supported for the input types, and the inputs could not be safely coerced to any supported types according to the casting rule ''safe''

In [109]:
x = citiesgroups_df_avg
y = number_rides
z = drivers_city

py_data.plot(kind="scatter", x, y, s=z, facecolors="red", edgecolors="black", alpha=0.75)
  File "<ipython-input-109-33d6db1fc344>", line 5
    py_data.plot(kind="scatter", x, y, s=z, facecolors="red", edgecolors="black", alpha=0.75)
                                ^
SyntaxError: positional argument follows keyword argument
In [ ]:
#facecolors="red", edgecolors="black",
            #s=x_axis, alpha=0.75
In [25]:
type_df = combined_data.groupby("type")
type_df["type"].count()
Out[25]:
type
Rural        125
Suburban     625
Urban       1625
Name: type, dtype: int64
In [27]:
type_df.head()
Out[27]:
city	driver_count	type	date	fare	ride_id
0	Richardfort	38	Urban	2018-02-24 08:40:38	13.93	5628545007794
1	Richardfort	38	Urban	2018-02-13 12:46:07	14.00	910050116494
2	Richardfort	38	Urban	2018-02-16 13:52:19	17.92	820639054416
3	Richardfort	38	Urban	2018-02-01 20:18:28	10.26	9554935945413
4	Richardfort	38	Urban	2018-04-17 02:26:37	23.00	720020655850
1625	Port Shane	7	Suburban	2018-04-09 15:34:40	27.66	4022340141966
1626	Port Shane	7	Suburban	2018-04-23 16:05:47	42.26	8341982666719
1627	Port Shane	7	Suburban	2018-03-02 12:06:00	14.95	2803204948363
1628	Port Shane	7	Suburban	2018-03-26 04:33:30	19.03	6010401984537
1629	Port Shane	7	Suburban	2018-03-15 12:09:42	31.58	2552978514662
2250	South Jennifer	7	Rural	2018-04-01 09:32:45	21.63	9135979586871
2251	South Jennifer	7	Rural	2018-03-07 19:10:13	48.79	9730627367446
2252	South Jennifer	7	Rural	2018-04-05 14:35:42	32.20	683983658392
2253	South Jennifer	7	Rural	2018-04-02 10:26:50	14.11	3828267773041
2254	South Jennifer	7	Rural	2018-04-10 20:46:11	43.25	623928772332
In [28]:
type_df["city"].count()
Out[28]:
type
Rural        125
Suburban     625
Urban       1625
Name: city, dtype: int64
In [ ]:

In [ ]:
cities_avg, = plt.plot(average_fare, cities_df, color="blue", label="avg" )
