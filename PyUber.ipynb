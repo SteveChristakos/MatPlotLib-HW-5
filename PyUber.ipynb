#%matplotlib inline
# Dependencies and Setup
import matplotlib.pyplot as plt
import pandas as pd
import numpy as np
import seaborn as sns


# File to Load (Remember to change these)
#city_data_to_load = "data/city_data.csv"
#ride_data_to_load = "data/ride_data.csv"

# Read the City and Ride Data

# Combine the data into a single dataset

# Display the data table for preview
In [104]:
%matplotlib inline
In [105]:
# Dependencies and Setup
import matplotlib.pyplot as plt
import pandas as pd
import numpy as np
In [106]:
#left_on='id', right_index=True
In [107]:
# File to Load (Remember to change these)
city_data_to_load = "city_data.csv"
ride_data_to_load = "ride_data.csv"

city_data_df = pd.read_csv(city_data_to_load)
ride_data_df = pd.read_csv(ride_data_to_load)
In [108]:
#Merge our two data frames together
combined_data = pd.merge(city_data_df, ride_data_df, how='outer', on="city")
combined_data.head()
Out[108]:
city	driver_count	type	date	fare	ride_id
0	Richardfort	38	Urban	2018-02-24 08:40:38	13.93	5628545007794
1	Richardfort	38	Urban	2018-02-13 12:46:07	14.00	910050116494
2	Richardfort	38	Urban	2018-02-16 13:52:19	17.92	820639054416
3	Richardfort	38	Urban	2018-02-01 20:18:28	10.26	9554935945413
4	Richardfort	38	Urban	2018-04-17 02:26:37	23.00	720020655850
In [109]:
combined_data.describe()
Out[109]:
driver_count	fare	ride_id
count	2375.000000	2375.000000	2.375000e+03
mean	28.930105	26.753112	4.887270e+12
std	20.666306	12.109465	2.907361e+12
min	1.000000	4.050000	3.218337e+08
25%	11.000000	17.190000	2.381175e+12
50%	23.000000	26.600000	4.748541e+12
75%	45.000000	36.645000	7.461936e+12
max	73.000000	58.550000	9.991538e+12
In [110]:
combined_data['driver_count'] = pd.to_numeric(combined_data['driver_count'])
In [36]:
combined_data.dtypes
Out[36]:
city             object
driver_count      int64
type             object
date             object
fare            float64
ride_id           int64
dtype: object
In [37]:
# Obtain the x and y coordinates for each of the three city types

# Build the scatter plots for each city types

# Incorporate the other graph properties

# Create a legend

# Incorporate a text label regarding circle size

# Save Figure
In [38]:
# Collect the mean unemployment rates for the world
#average_fare = combined_unemployed_data['fare'].mean()

# Collect the years where data was collected
combined_data['city'].count()
Out[38]:
2375
In [39]:
citiesgroups_df = combined_data.groupby("city")
citiesgroups_df.head()
Out[39]:
city	driver_count	type	date	fare	ride_id
0	Richardfort	38	Urban	2018-02-24 08:40:38	13.93	5628545007794
1	Richardfort	38	Urban	2018-02-13 12:46:07	14.00	910050116494
2	Richardfort	38	Urban	2018-02-16 13:52:19	17.92	820639054416
3	Richardfort	38	Urban	2018-02-01 20:18:28	10.26	9554935945413
4	Richardfort	38	Urban	2018-04-17 02:26:37	23.00	720020655850
28	Williamsstad	59	Urban	2018-01-23 17:51:24	19.62	125986195523
29	Williamsstad	59	Urban	2018-03-29 21:43:04	35.58	4747780858464
30	Williamsstad	59	Urban	2018-02-13 20:07:49	33.72	3796713212942
31	Williamsstad	59	Urban	2018-05-01 01:26:21	26.81	4542954169892
32	Williamsstad	59	Urban	2018-02-23 17:42:40	4.68	9109973457376
51	Port Angela	67	Urban	2018-04-17 06:23:18	16.34	7120534266772
52	Port Angela	67	Urban	2018-03-31 15:22:26	30.77	662264490197
53	Port Angela	67	Urban	2018-04-09 14:34:27	11.90	7009806605900
54	Port Angela	67	Urban	2018-02-08 16:30:53	30.38	5165542108944
55	Port Angela	67	Urban	2018-03-04 03:26:39	40.35	4930810733132
70	Rodneyfort	34	Urban	2018-02-10 23:22:03	23.44	5149245426178
71	Rodneyfort	34	Urban	2018-03-02 18:03:20	44.26	2494064867705
72	Rodneyfort	34	Urban	2018-02-03 00:48:41	44.86	2325699544245
73	Rodneyfort	34	Urban	2018-04-25 20:57:43	21.70	8534600667414
74	Rodneyfort	34	Urban	2018-01-30 12:34:42	16.99	5778730523049
93	West Robert	39	Urban	2018-02-15 04:21:47	12.28	1442502460354
94	West Robert	39	Urban	2018-04-05 03:18:56	44.58	4246011046064
95	West Robert	39	Urban	2018-01-21 17:21:50	27.11	1369907297609
96	West Robert	39	Urban	2018-04-13 06:56:12	32.94	9603611942427
97	West Robert	39	Urban	2018-01-04 06:10:40	35.35	9554287895527
124	West Anthony	70	Urban	2018-03-06 02:27:01	10.02	9396763280782
125	West Anthony	70	Urban	2018-01-23 12:32:46	23.24	596601397101
126	West Anthony	70	Urban	2018-02-24 06:14:16	39.20	8491405671407
127	West Anthony	70	Urban	2018-03-17 00:30:34	35.42	4561324147940
128	West Anthony	70	Urban	2018-01-10 02:31:33	32.34	1479317039864
...	...	...	...	...	...	...
2335	South Marychester	1	Rural	2018-02-21 19:16:48	55.40	8822356392057
2336	South Marychester	1	Rural	2018-01-15 21:44:26	30.26	3837056996776
2337	South Marychester	1	Rural	2018-03-27 12:07:50	34.42	4230150157651
2341	Garzaport	7	Rural	2018-02-18 18:27:48	36.16	2928337561347
2342	Garzaport	7	Rural	2018-04-17 01:48:27	17.31	6092414045061
2343	Garzaport	7	Rural	2018-05-06 16:57:16	18.90	8826696981094
2344	Bradshawfurt	7	Rural	2018-03-06 21:44:53	19.74	6080367372860
2345	Bradshawfurt	7	Rural	2018-03-24 18:53:18	57.51	2301998876294
2346	Bradshawfurt	7	Rural	2018-03-24 07:34:03	19.89	7867402022145
2347	Bradshawfurt	7	Rural	2018-02-18 22:21:26	34.32	8881996813087
2348	Bradshawfurt	7	Rural	2018-04-08 13:46:03	55.19	1742954306812
2354	New Ryantown	2	Rural	2018-01-27 17:33:41	42.68	7994603753131
2355	New Ryantown	2	Rural	2018-04-18 19:43:54	42.97	230914178346
2356	New Ryantown	2	Rural	2018-02-04 23:54:51	45.70	3570428225530
2357	New Ryantown	2	Rural	2018-04-30 01:50:44	50.81	5357550405010
2358	New Ryantown	2	Rural	2018-04-05 21:38:18	50.98	4834855490008
2360	Randallchester	9	Rural	2018-04-13 11:13:31	43.22	1076079536213
2361	Randallchester	9	Rural	2018-02-19 03:52:47	58.55	8004803682564
2362	Randallchester	9	Rural	2018-02-11 05:42:29	25.78	9010611749008
2363	Randallchester	9	Rural	2018-03-25 13:36:46	10.37	3216382725494
2364	Randallchester	9	Rural	2018-04-07 23:42:07	10.79	1615474447641
2365	Jessicaport	1	Rural	2018-01-01 09:45:36	43.69	2424875833354
2366	Jessicaport	1	Rural	2018-01-14 07:09:17	18.05	5405362355006
2367	Jessicaport	1	Rural	2018-04-13 16:08:11	39.89	6511242590852
2368	Jessicaport	1	Rural	2018-03-18 16:59:40	33.72	3046889917159
2369	Jessicaport	1	Rural	2018-05-01 08:14:47	22.44	3725278487786
2371	South Saramouth	7	Rural	2018-02-20 16:32:36	44.29	3622365199969
2372	South Saramouth	7	Rural	2018-01-28 15:55:33	31.25	7118046558393
2373	South Saramouth	7	Rural	2018-03-27 21:07:16	11.87	170351888128
2374	South Saramouth	7	Rural	2018-04-12 18:11:50	57.23	5081198789583
596 rows × 6 columns

In [40]:
number_rides = citiesgroups_df["date"].count()
number_rides
Out[40]:
city
Amandaburgh             18
Barajasview             22
Barronchester           16
Bethanyland             18
Bradshawfurt            10
Brandonfort             19
Carriemouth             27
Christopherfurt         27
Colemanland             22
Davidfurt               17
Deanville               19
East Aaronbury           9
East Danielview         17
East Kaylahaven         29
East Kentstad           13
East Marymouth          27
Erikaland               12
Garzaport                3
Grahamburgh             25
Grayville               15
Harringtonfort           6
Huntermouth             24
Hurleymouth             28
Jerryton                25
Jessicaport              6
Johnton                 21
Joneschester            25
Josephside              27
Justinberg              30
Karenberg               17
                        ..
South Evanton           31
South Jack              19
South Jennifer           7
South Karenland         38
South Latoya            19
South Marychester        8
South Michelleport      31
South Phillip           31
South Saramouth          4
South Teresa            22
Taylorhaven              6
Valentineton            22
Veronicaberg            17
Victoriaport            14
West Angela             39
West Anthony            30
West Christopherberg    26
West Ericstad           18
West Gabriel            23
West Hannah             21
West Heather             9
West Heidi              28
West Josephberg         26
West Kimmouth           20
West Patrickchester     16
West Robert             31
West Samuelburgh        25
Williamsonville         14
Williamsstad            23
Williamsview            20
Name: date, Length: 120, dtype: int64
In [41]:
drivers = citiesgroups_df["driver_count"].unique()
drivers
Out[41]:
city
Amandaburgh             [12]
Barajasview             [26]
Barronchester           [11]
Bethanyland             [22]
Bradshawfurt             [7]
Brandonfort             [10]
Carriemouth             [52]
Christopherfurt         [41]
Colemanland             [23]
Davidfurt               [23]
Deanville               [49]
East Aaronbury           [7]
East Danielview         [22]
East Kaylahaven         [65]
East Kentstad           [20]
East Marymouth           [5]
Erikaland               [37]
Garzaport                [7]
Grahamburgh             [61]
Grayville                [2]
Harringtonfort           [4]
Huntermouth             [37]
Hurleymouth             [36]
Jerryton                [64]
Jessicaport              [1]
Johnton                 [27]
Joneschester            [39]
Josephside              [25]
Justinberg              [39]
Karenberg               [22]
                        ... 
South Evanton           [11]
South Jack              [46]
South Jennifer           [7]
South Karenland          [4]
South Latoya            [10]
South Marychester        [1]
South Michelleport      [72]
South Phillip           [38]
South Saramouth          [7]
South Teresa            [21]
Taylorhaven              [1]
Valentineton            [45]
Veronicaberg            [20]
Victoriaport            [16]
West Angela             [48]
West Anthony            [70]
West Christopherberg    [32]
West Ericstad           [25]
West Gabriel            [57]
West Hannah             [12]
West Heather             [4]
West Heidi              [28]
West Josephberg         [45]
West Kimmouth            [4]
West Patrickchester     [25]
West Robert             [39]
West Samuelburgh        [73]
Williamsonville          [2]
Williamsstad            [59]
Williamsview            [46]
Name: driver_count, Length: 120, dtype: object
In [91]:
#drivers['Amandaburgh']
---------------------------------------------------------------------------
AttributeError                            Traceback (most recent call last)
<ipython-input-91-676d0407b0f6> in <module>()
----> 1 drivers['Amandaburgh'].value_counts()

AttributeError: 'numpy.ndarray' object has no attribute 'value_counts'
In [42]:
citiesgroups_df_avg = citiesgroups_df["fare"].mean()
citiesgroups_df_avg
Out[42]:
city
Amandaburgh             24.641667
Barajasview             25.332273
Barronchester           36.422500
Bethanyland             32.956111
Bradshawfurt            40.064000
Brandonfort             35.437368
Carriemouth             28.314444
Christopherfurt         24.501852
Colemanland             30.894545
Davidfurt               31.995882
Deanville               25.842632
East Aaronbury          25.661111
East Danielview         31.560588
East Kaylahaven         23.757931
East Kentstad           29.823077
East Marymouth          30.835185
Erikaland               24.906667
Garzaport               24.123333
Grahamburgh             25.221200
Grayville               27.763333
Harringtonfort          33.470000
Huntermouth             28.993750
Hurleymouth             25.891429
Jerryton                25.649200
Jessicaport             36.013333
Johnton                 26.785714
Joneschester            22.289600
Josephside              32.858148
Justinberg              23.694333
Karenberg               26.340000
                          ...    
South Evanton           26.726129
South Jack              22.965263
South Jennifer          35.264286
South Karenland         26.535526
South Latoya            20.093158
South Marychester       41.870000
South Michelleport      24.451613
South Phillip           28.571290
South Saramouth         36.160000
South Teresa            31.220455
Taylorhaven             42.263333
Valentineton            24.636364
Veronicaberg            32.828235
Victoriaport            27.780000
West Angela             25.990000
West Anthony            24.736667
West Christopherberg    24.421154
West Ericstad           22.347222
West Gabriel            20.346087
West Hannah             29.547619
West Heather            33.890000
West Heidi              23.133929
West Josephberg         21.720385
West Kimmouth           29.871500
West Patrickchester     28.233125
West Robert             25.123871
West Samuelburgh        21.767600
Williamsonville         31.875000
Williamsstad            24.362174
Williamsview            26.599000
Name: fare, Length: 120, dtype: float64
In [83]:
color_labels = combined_data['type'].unique()
rgb_values = sns.color_palette("Set2", 8)
color_map = dict(zip(color_labels, rgb_values))
In [ ]:
rgb_values = sns.color_palette("Set2", 8)
In [101]:
driver_counts = citiesgroups_df['driver_count'].min()
In [112]:
type_data = citiesgroups_df['type'].min()
type_data
Out[112]:
city
Amandaburgh                Urban
Barajasview                Urban
Barronchester           Suburban
Bethanyland             Suburban
Bradshawfurt               Rural
Brandonfort             Suburban
Carriemouth                Urban
Christopherfurt            Urban
Colemanland             Suburban
Davidfurt               Suburban
Deanville                  Urban
East Aaronbury          Suburban
East Danielview         Suburban
East Kaylahaven            Urban
East Kentstad           Suburban
East Marymouth          Suburban
Erikaland                  Urban
Garzaport                  Rural
Grahamburgh                Urban
Grayville               Suburban
Harringtonfort             Rural
Huntermouth                Urban
Hurleymouth                Urban
Jerryton                   Urban
Jessicaport                Rural
Johnton                    Urban
Joneschester               Urban
Josephside              Suburban
Justinberg                 Urban
Karenberg                  Urban
                          ...   
South Evanton              Urban
South Jack                 Urban
South Jennifer             Rural
South Karenland            Urban
South Latoya               Urban
South Marychester          Rural
South Michelleport         Urban
South Phillip              Urban
South Saramouth            Rural
South Teresa            Suburban
Taylorhaven                Rural
Valentineton               Urban
Veronicaberg            Suburban
Victoriaport            Suburban
West Angela                Urban
West Anthony               Urban
West Christopherberg       Urban
West Ericstad              Urban
West Gabriel               Urban
West Hannah             Suburban
West Heather               Rural
West Heidi                 Urban
West Josephberg            Urban
West Kimmouth           Suburban
West Patrickchester        Urban
West Robert                Urban
West Samuelburgh           Urban
Williamsonville         Suburban
Williamsstad               Urban
Williamsview               Urban
Name: type, Length: 120, dtype: object
In [120]:
grp_data = combined_data.groupby("city").agg({'ride_id': 'count', 'fare': 'mean', 'type': 'first', 'driver_count': 'min'})
grp_data
Out[120]:
ride_id	fare	type	driver_count
city				
Amandaburgh	18	24.641667	Urban	12
Barajasview	22	25.332273	Urban	26
Barronchester	16	36.422500	Suburban	11
Bethanyland	18	32.956111	Suburban	22
Bradshawfurt	10	40.064000	Rural	7
Brandonfort	19	35.437368	Suburban	10
Carriemouth	27	28.314444	Urban	52
Christopherfurt	27	24.501852	Urban	41
Colemanland	22	30.894545	Suburban	23
Davidfurt	17	31.995882	Suburban	23
Deanville	19	25.842632	Urban	49
East Aaronbury	9	25.661111	Suburban	7
East Danielview	17	31.560588	Suburban	22
East Kaylahaven	29	23.757931	Urban	65
East Kentstad	13	29.823077	Suburban	20
East Marymouth	27	30.835185	Suburban	5
Erikaland	12	24.906667	Urban	37
Garzaport	3	24.123333	Rural	7
Grahamburgh	25	25.221200	Urban	61
Grayville	15	27.763333	Suburban	2
Harringtonfort	6	33.470000	Rural	4
Huntermouth	24	28.993750	Urban	37
Hurleymouth	28	25.891429	Urban	36
Jerryton	25	25.649200	Urban	64
Jessicaport	6	36.013333	Rural	1
Johnton	21	26.785714	Urban	27
Joneschester	25	22.289600	Urban	39
Josephside	27	32.858148	Suburban	25
Justinberg	30	23.694333	Urban	39
Karenberg	17	26.340000	Urban	22
...	...	...	...	...
South Evanton	31	26.726129	Urban	11
South Jack	19	22.965263	Urban	46
South Jennifer	7	35.264286	Rural	7
South Karenland	38	26.535526	Urban	4
South Latoya	19	20.093158	Urban	10
South Marychester	8	41.870000	Rural	1
South Michelleport	31	24.451613	Urban	72
South Phillip	31	28.571290	Urban	38
South Saramouth	4	36.160000	Rural	7
South Teresa	22	31.220455	Suburban	21
Taylorhaven	6	42.263333	Rural	1
Valentineton	22	24.636364	Urban	45
Veronicaberg	17	32.828235	Suburban	20
Victoriaport	14	27.780000	Suburban	16
West Angela	39	25.990000	Urban	48
West Anthony	30	24.736667	Urban	70
West Christopherberg	26	24.421154	Urban	32
West Ericstad	18	22.347222	Urban	25
West Gabriel	23	20.346087	Urban	57
West Hannah	21	29.547619	Suburban	12
West Heather	9	33.890000	Rural	4
West Heidi	28	23.133929	Urban	28
West Josephberg	26	21.720385	Urban	45
West Kimmouth	20	29.871500	Suburban	4
West Patrickchester	16	28.233125	Urban	25
West Robert	31	25.123871	Urban	39
West Samuelburgh	25	21.767600	Urban	73
Williamsonville	14	31.875000	Suburban	2
Williamsstad	23	24.362174	Urban	59
Williamsview	20	26.599000	Urban	46
120 rows × 4 columns

In [122]:
rgb_values
Out[122]:
[(0.4, 0.7607843137254902, 0.6470588235294118),
 (0.9882352941176471, 0.5529411764705883, 0.3843137254901961),
 (0.5529411764705883, 0.6274509803921569, 0.796078431372549),
 (0.9058823529411765, 0.5411764705882353, 0.7647058823529411),
 (0.6509803921568628, 0.8470588235294118, 0.32941176470588235),
 (1.0, 0.8509803921568627, 0.1843137254901961),
 (0.8980392156862745, 0.7686274509803922, 0.5803921568627451),
 (0.7019607843137254, 0.7019607843137254, 0.7019607843137254)]
In [166]:
color_labels = ['Urban', 'Suburban', 'Rural']
rgb_values = ['lightcoral', 'lightskyblue', 'gold' ]
color_map = dict(zip(color_labels, rgb_values))
x = grp_data['ride_id']
y = grp_data['fare']
z = grp_data['driver_count']
plt.scatter(x, y, s=z*25, c=grp_data['type'].map(lambda x: color_map[x]), edgecolors='black', lw=1, alpha=0.666)
Out[166]:
<matplotlib.collections.PathCollection at 0x1a21119e80>

In [218]:
sns.set_style("whitegrid")
color_labels = type_data.unique()
rgb_values = sns.color_palette("Set2", 8)
color_map = dict(zip(color_labels, rgb_values))
x = number_rides
y = citiesgroups_df_avg
z = driver_counts
#color = type_df['type']

plot = plt.scatter(x, y, s=z, c=type_data.map(lambda x: color_map[x]), alpha=0.6)
plot.set_xlabel("Total Number of Rides(per city)")
plot.set_ylabel("Average Fare ($)")
---------------------------------------------------------------------------
AttributeError                            Traceback (most recent call last)
<ipython-input-218-6c0a643a3596> in <module>()
      9 
     10 plot = plt.scatter(x, y, s=z, c=type_data.map(lambda x: color_map[x]), alpha=0.6)
---> 11 plot.set_xlabel("Total Number of Rides(per city)")
     12 plot.set_ylabel("Average Fare ($)")

AttributeError: 'PathCollection' object has no attribute 'set_xlabel'

In [137]:
grp_data[grp_data['type']=='Urban']
Out[137]:
ride_id	fare	type	driver_count
city				
Amandaburgh	18	24.641667	Urban	12
Barajasview	22	25.332273	Urban	26
Carriemouth	27	28.314444	Urban	52
Christopherfurt	27	24.501852	Urban	41
Deanville	19	25.842632	Urban	49
East Kaylahaven	29	23.757931	Urban	65
Erikaland	12	24.906667	Urban	37
Grahamburgh	25	25.221200	Urban	61
Huntermouth	24	28.993750	Urban	37
Hurleymouth	28	25.891429	Urban	36
Jerryton	25	25.649200	Urban	64
Johnton	21	26.785714	Urban	27
Joneschester	25	22.289600	Urban	39
Justinberg	30	23.694333	Urban	39
Karenberg	17	26.340000	Urban	22
Karenside	28	27.453571	Urban	5
Lake Danielberg	26	24.844231	Urban	19
Lake Jonathanshire	24	23.425833	Urban	5
Lake Scottton	24	23.809167	Urban	58
Leahton	21	21.243810	Urban	17
Liumouth	33	26.150000	Urban	69
Loganberg	28	25.292500	Urban	23
Martinezhaven	24	22.651250	Urban	25
New Jacobville	18	26.765556	Urban	50
New Kimberlyborough	30	22.589000	Urban	33
New Paulton	19	27.820000	Urban	44
New Paulville	22	21.675909	Urban	44
North Barbara	22	23.494091	Urban	18
North Jasmine	30	25.205333	Urban	33
North Jason	35	22.743714	Urban	6
...	...	...	...	...
Port Johnbury	22	23.006364	Urban	3
Port Samanthamouth	25	25.642800	Urban	57
Raymondhaven	25	21.480400	Urban	11
Reynoldsfurt	19	21.919474	Urban	67
Richardfort	28	22.373214	Urban	38
Roberthaven	24	23.729167	Urban	47
Robertport	20	23.060500	Urban	12
Rodneyfort	23	28.616957	Urban	34
Rogerston	22	22.097727	Urban	25
Royland	30	20.570667	Urban	64
Simpsonburgh	24	23.355833	Urban	21
South Evanton	31	26.726129	Urban	11
South Jack	19	22.965263	Urban	46
South Karenland	38	26.535526	Urban	4
South Latoya	19	20.093158	Urban	10
South Michelleport	31	24.451613	Urban	72
South Phillip	31	28.571290	Urban	38
Valentineton	22	24.636364	Urban	45
West Angela	39	25.990000	Urban	48
West Anthony	30	24.736667	Urban	70
West Christopherberg	26	24.421154	Urban	32
West Ericstad	18	22.347222	Urban	25
West Gabriel	23	20.346087	Urban	57
West Heidi	28	23.133929	Urban	28
West Josephberg	26	21.720385	Urban	45
West Patrickchester	16	28.233125	Urban	25
West Robert	31	25.123871	Urban	39
West Samuelburgh	25	21.767600	Urban	73
Williamsstad	23	24.362174	Urban	59
Williamsview	20	26.599000	Urban	46
66 rows × 4 columns

In [221]:
x = grp_data['ride_id']
y = grp_data['fare']
z = grp_data['driver_count']
In [260]:
#color_labels = ['Urban', 'Suburban', 'Rural']
#rgb_values = ['lightcoral', 'lightskyblue', 'gold' ]
#color_map = dict(zip(color_labels, rgb_values))
sns.set_style("whitegrid")
x = grp_data[grp_data['type']=='Urban']['ride_id']
y = grp_data[grp_data['type']=='Urban']['fare']
z = grp_data[grp_data['type']=='Urban']['driver_count']
#groups = (grp_data['type']=='Urban', grp_data['type']=='Suburban', grp_data['type']=='Rural')
urbanplt = plt.scatter(x, y, s=z*20, c='lightcoral', edgecolors='black', lw=1, label='Urban', alpha=0.666)


x_1 = grp_data[grp_data['type']=='Suburban']['ride_id']
y_1 = grp_data[grp_data['type']=='Suburban']['fare']
z_1 = grp_data[grp_data['type']=='Suburban']['driver_count']

suburbanplt = plt.scatter(x_1, y_1, s=z_1*20, c='lightskyblue', edgecolors='black', lw=1, label='Suburban', alpha=0.666)

x_2 = grp_data[grp_data['type']=='Rural']['ride_id']
y_2 = grp_data[grp_data['type']=='Rural']['fare']
z_2 = grp_data[grp_data['type']=='Rural']['driver_count']

ruralplt = plt.scatter(x_2, y_2, s=z_1*20, c='gold', edgecolors='black', lw=1, label='Rural', alpha=0.666)


plt.title('Pyber Ride Sharing Data 2016') 
lgnd = plt.legend(handles=[urbanplt , suburbanplt, ruralplt], loc="best", framealpha=1, markerscale=0.9, scatterpoints=1, ncol=3, fontsize=8)
for handle in lgnd.legendHandles:
    handle.set_sizes([60.0])
plt.xlabel("Total Number of Rides(per city)")
plt.ylabel("Average Fare ($)")
plt.tight_layout()
plt.ylim(18, 46)
plt.text(45, 30, "Note: Circle size correlate with driver count per city", fontsize=10)
Out[260]:
Text(45,30,'Note: Circle size correlate with driver count per city')

In [ ]:

In [93]:
color_map
Out[93]:
{'Urban': (0.4, 0.7607843137254902, 0.6470588235294118),
 'Suburban': (0.9882352941176471, 0.5529411764705883, 0.3843137254901961),
 'Rural': (0.5529411764705883, 0.6274509803921569, 0.796078431372549)}
In [25]:
#x = citiesgroups_df_avg
#y = number_rides


#py_data.plot(kind="scatter", x, y, facecolors="red", edgecolors="black", alpha=0.75)
In [46]:
#facecolors="red", edgecolors="black",
            #s=x_axis, alpha=0.75
In [47]:
type_df = combined_data.groupby("type")
type_df["type"].count()
Out[47]:
type
Rural        125
Suburban     625
Urban       1625
Name: type, dtype: int64
In [52]:
fare_perc = type_df["fare"].sum()
fare_perc
Out[52]:
type
Rural        4327.93
Suburban    19356.33
Urban       39854.38
Name: fare, dtype: float64
In [270]:
plt.title("% Total Fares By City Type")
labels = ['Urban', 'Suburban', 'Rural']
sizes = [39854.38, 19356.33, 4327.93]
colors = ['lightcoral', 'lightskyblue', 'gold']



plt.pie(sizes, labels=labels, explode=(0.1, 0, 0), colors=colors,
        autopct="%1.1f%%", shadow=True, startangle=150)

plt.axis('equal')
plt.show()

In [53]:
ride_perc = type_df["city"].count()
ride_perc
Out[53]:
type
Rural        125
Suburban     625
Urban       1625
Name: city, dtype: int64
In [271]:
plt.title("% Total Rides By City Type")
labels = ['Urban', 'Suburban', 'Rural']
sizes = [1625, 625, 125]
colors = ['lightcoral', 'lightskyblue', 'gold']



plt.pie(sizes, labels=labels, explode=(0.1, 0, 0), colors=colors,
        autopct="%1.1f%%", shadow=True, startangle=150)

plt.axis('equal')
plt.show()

In [284]:
drivers_perc = type_df["driver_count"].sum()
drivers_perc
Out[284]:
type
Rural         537
Suburban     8570
Urban       59602
Name: driver_count, dtype: int64
In [272]:
plt.title("% Total Drivers By City Type")
labels = ['Urban', 'Suburban', 'Rural']
sizes = [59602, 8570, 537]
colors = ['lightcoral', 'lightskyblue', 'gold']



plt.pie(sizes, labels=labels, explode=(0.1, 0, 0), colors=colors,
        autopct="%1.1f%%", shadow=True, startangle=150)

plt.axis('equal')
plt.show()

In [ ]:
#cities_avg, = plt.plot(average_fare, cities_df, color="blue", label="avg" )
